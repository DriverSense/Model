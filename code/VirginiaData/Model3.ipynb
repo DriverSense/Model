{
 "cells": [
  {
   "cell_type": "code",
   "execution_count": 1,
   "id": "incorporate-twins",
   "metadata": {},
   "outputs": [],
   "source": [
    "import turicreate as tc\n",
    "import os"
   ]
  },
  {
   "cell_type": "code",
   "execution_count": 2,
   "id": "demonstrated-confidence",
   "metadata": {
    "scrolled": true
   },
   "outputs": [
    {
     "data": {
      "text/html": [
       "<pre>Finished parsing file /media/bhavya_bhardwaj/Bhavya/Hackathon/Sweden-India Hackathon/VirginiaData/crash1.csv</pre>"
      ],
      "text/plain": [
       "Finished parsing file /media/bhavya_bhardwaj/Bhavya/Hackathon/Sweden-India Hackathon/VirginiaData/crash1.csv"
      ]
     },
     "metadata": {},
     "output_type": "display_data"
    },
    {
     "data": {
      "text/html": [
       "<pre>Parsing completed. Parsed 29030 lines in 0.313519 secs.</pre>"
      ],
      "text/plain": [
       "Parsing completed. Parsed 29030 lines in 0.313519 secs."
      ]
     },
     "metadata": {},
     "output_type": "display_data"
    },
    {
     "data": {
      "text/html": [
       "<pre>Read 216148 lines. Lines per second: 52154.7</pre>"
      ],
      "text/plain": [
       "Read 216148 lines. Lines per second: 52154.7"
      ]
     },
     "metadata": {},
     "output_type": "display_data"
    },
    {
     "data": {
      "text/html": [
       "<pre>Finished parsing file /media/bhavya_bhardwaj/Bhavya/Hackathon/Sweden-India Hackathon/VirginiaData/nearcrash1.csv</pre>"
      ],
      "text/plain": [
       "Finished parsing file /media/bhavya_bhardwaj/Bhavya/Hackathon/Sweden-India Hackathon/VirginiaData/nearcrash1.csv"
      ]
     },
     "metadata": {},
     "output_type": "display_data"
    },
    {
     "data": {
      "text/html": [
       "<pre>Parsing completed. Parsed 343033 lines in 5.53497 secs.</pre>"
      ],
      "text/plain": [
       "Parsing completed. Parsed 343033 lines in 5.53497 secs."
      ]
     },
     "metadata": {},
     "output_type": "display_data"
    }
   ],
   "source": [
    "data=tc.SFrame.read_csv(\"crash1.csv\",column_type_hints=[str]*76+[int])\n",
    "data2=tc.SFrame.read_csv(\"nearcrash1.csv\",column_type_hints=[str]*76+[int])\n",
    "data=data.append(data2)"
   ]
  },
  {
   "cell_type": "code",
   "execution_count": 3,
   "id": "occasional-latin",
   "metadata": {},
   "outputs": [],
   "source": [
    "data.export_csv(\"CompleteData.csv\")"
   ]
  },
  {
   "cell_type": "code",
   "execution_count": 4,
   "id": "cloudy-dominant",
   "metadata": {},
   "outputs": [],
   "source": [
    "data=data.shuffle()\n",
    "data_train,data_test=tc.SFrame.random_split(data,0.7)\n",
    "data_test1, data_validation=tc.SFrame.random_split(data_test,0.5)"
   ]
  },
  {
   "cell_type": "code",
   "execution_count": 5,
   "id": "possible-smile",
   "metadata": {},
   "outputs": [
    {
     "name": "stdout",
     "output_type": "stream",
     "text": [
      "PROGRESS: The following methods are available for this type of problem.\n",
      "PROGRESS: LogisticClassifier, SVMClassifier\n",
      "PROGRESS: The returned model will be chosen according to validation accuracy.\n"
     ]
    },
    {
     "data": {
      "text/html": [
       "<pre>Logistic regression:</pre>"
      ],
      "text/plain": [
       "Logistic regression:"
      ]
     },
     "metadata": {},
     "output_type": "display_data"
    },
    {
     "data": {
      "text/html": [
       "<pre>--------------------------------------------------------</pre>"
      ],
      "text/plain": [
       "--------------------------------------------------------"
      ]
     },
     "metadata": {},
     "output_type": "display_data"
    },
    {
     "data": {
      "text/html": [
       "<pre>Number of examples          : 372063</pre>"
      ],
      "text/plain": [
       "Number of examples          : 372063"
      ]
     },
     "metadata": {},
     "output_type": "display_data"
    },
    {
     "data": {
      "text/html": [
       "<pre>Number of classes           : 2</pre>"
      ],
      "text/plain": [
       "Number of classes           : 2"
      ]
     },
     "metadata": {},
     "output_type": "display_data"
    },
    {
     "data": {
      "text/html": [
       "<pre>Number of feature columns   : 76</pre>"
      ],
      "text/plain": [
       "Number of feature columns   : 76"
      ]
     },
     "metadata": {},
     "output_type": "display_data"
    },
    {
     "data": {
      "text/html": [
       "<pre>Number of unpacked features : 76</pre>"
      ],
      "text/plain": [
       "Number of unpacked features : 76"
      ]
     },
     "metadata": {},
     "output_type": "display_data"
    },
    {
     "data": {
      "text/html": [
       "<pre>Number of coefficients      : 410708</pre>"
      ],
      "text/plain": [
       "Number of coefficients      : 410708"
      ]
     },
     "metadata": {},
     "output_type": "display_data"
    },
    {
     "data": {
      "text/html": [
       "<pre>Starting L-BFGS</pre>"
      ],
      "text/plain": [
       "Starting L-BFGS"
      ]
     },
     "metadata": {},
     "output_type": "display_data"
    },
    {
     "data": {
      "text/html": [
       "<pre>--------------------------------------------------------</pre>"
      ],
      "text/plain": [
       "--------------------------------------------------------"
      ]
     },
     "metadata": {},
     "output_type": "display_data"
    },
    {
     "data": {
      "text/html": [
       "<pre>+-----------+----------+-----------+--------------+-------------------+---------------------+</pre>"
      ],
      "text/plain": [
       "+-----------+----------+-----------+--------------+-------------------+---------------------+"
      ]
     },
     "metadata": {},
     "output_type": "display_data"
    },
    {
     "data": {
      "text/html": [
       "<pre>| Iteration | Passes   | Step size | Elapsed Time | Training Accuracy | Validation Accuracy |</pre>"
      ],
      "text/plain": [
       "| Iteration | Passes   | Step size | Elapsed Time | Training Accuracy | Validation Accuracy |"
      ]
     },
     "metadata": {},
     "output_type": "display_data"
    },
    {
     "data": {
      "text/html": [
       "<pre>+-----------+----------+-----------+--------------+-------------------+---------------------+</pre>"
      ],
      "text/plain": [
       "+-----------+----------+-----------+--------------+-------------------+---------------------+"
      ]
     },
     "metadata": {},
     "output_type": "display_data"
    },
    {
     "data": {
      "text/html": [
       "<pre>| 0         | 3        | 0.500000  | 1.832373     | 0.921976          | 0.922304            |</pre>"
      ],
      "text/plain": [
       "| 0         | 3        | 0.500000  | 1.832373     | 0.921976          | 0.922304            |"
      ]
     },
     "metadata": {},
     "output_type": "display_data"
    },
    {
     "data": {
      "text/html": [
       "<pre>| 1         | 9        | 4.500000  | 3.622921     | 0.970094          | 0.969682            |</pre>"
      ],
      "text/plain": [
       "| 1         | 9        | 4.500000  | 3.622921     | 0.970094          | 0.969682            |"
      ]
     },
     "metadata": {},
     "output_type": "display_data"
    },
    {
     "data": {
      "text/html": [
       "<pre>| 2         | 10       | 4.500000  | 4.089906     | 0.497246          | 0.499184            |</pre>"
      ],
      "text/plain": [
       "| 2         | 10       | 4.500000  | 4.089906     | 0.497246          | 0.499184            |"
      ]
     },
     "metadata": {},
     "output_type": "display_data"
    },
    {
     "data": {
      "text/html": [
       "<pre>| 3         | 16       | 1.692008  | 5.858177     | 0.986701          | 0.986599            |</pre>"
      ],
      "text/plain": [
       "| 3         | 16       | 1.692008  | 5.858177     | 0.986701          | 0.986599            |"
      ]
     },
     "metadata": {},
     "output_type": "display_data"
    },
    {
     "data": {
      "text/html": [
       "<pre>| 4         | 17       | 1.692008  | 6.324767     | 0.995947          | 0.996179            |</pre>"
      ],
      "text/plain": [
       "| 4         | 17       | 1.692008  | 6.324767     | 0.995947          | 0.996179            |"
      ]
     },
     "metadata": {},
     "output_type": "display_data"
    },
    {
     "data": {
      "text/html": [
       "<pre>| 9         | 27       | 1.000000  | 10.114798    | 0.999312          | 0.999282            |</pre>"
      ],
      "text/plain": [
       "| 9         | 27       | 1.000000  | 10.114798    | 0.999312          | 0.999282            |"
      ]
     },
     "metadata": {},
     "output_type": "display_data"
    },
    {
     "data": {
      "text/html": [
       "<pre>+-----------+----------+-----------+--------------+-------------------+---------------------+</pre>"
      ],
      "text/plain": [
       "+-----------+----------+-----------+--------------+-------------------+---------------------+"
      ]
     },
     "metadata": {},
     "output_type": "display_data"
    },
    {
     "data": {
      "text/html": [
       "<pre>SVM:</pre>"
      ],
      "text/plain": [
       "SVM:"
      ]
     },
     "metadata": {},
     "output_type": "display_data"
    },
    {
     "data": {
      "text/html": [
       "<pre>--------------------------------------------------------</pre>"
      ],
      "text/plain": [
       "--------------------------------------------------------"
      ]
     },
     "metadata": {},
     "output_type": "display_data"
    },
    {
     "data": {
      "text/html": [
       "<pre>Number of examples          : 372063</pre>"
      ],
      "text/plain": [
       "Number of examples          : 372063"
      ]
     },
     "metadata": {},
     "output_type": "display_data"
    },
    {
     "data": {
      "text/html": [
       "<pre>Number of classes           : 2</pre>"
      ],
      "text/plain": [
       "Number of classes           : 2"
      ]
     },
     "metadata": {},
     "output_type": "display_data"
    },
    {
     "data": {
      "text/html": [
       "<pre>Number of feature columns   : 76</pre>"
      ],
      "text/plain": [
       "Number of feature columns   : 76"
      ]
     },
     "metadata": {},
     "output_type": "display_data"
    },
    {
     "data": {
      "text/html": [
       "<pre>Number of unpacked features : 76</pre>"
      ],
      "text/plain": [
       "Number of unpacked features : 76"
      ]
     },
     "metadata": {},
     "output_type": "display_data"
    },
    {
     "data": {
      "text/html": [
       "<pre>Number of coefficients    : 410708</pre>"
      ],
      "text/plain": [
       "Number of coefficients    : 410708"
      ]
     },
     "metadata": {},
     "output_type": "display_data"
    },
    {
     "data": {
      "text/html": [
       "<pre>Starting L-BFGS</pre>"
      ],
      "text/plain": [
       "Starting L-BFGS"
      ]
     },
     "metadata": {},
     "output_type": "display_data"
    },
    {
     "data": {
      "text/html": [
       "<pre>--------------------------------------------------------</pre>"
      ],
      "text/plain": [
       "--------------------------------------------------------"
      ]
     },
     "metadata": {},
     "output_type": "display_data"
    },
    {
     "data": {
      "text/html": [
       "<pre>+-----------+----------+-----------+--------------+-------------------+---------------------+</pre>"
      ],
      "text/plain": [
       "+-----------+----------+-----------+--------------+-------------------+---------------------+"
      ]
     },
     "metadata": {},
     "output_type": "display_data"
    },
    {
     "data": {
      "text/html": [
       "<pre>| Iteration | Passes   | Step size | Elapsed Time | Training Accuracy | Validation Accuracy |</pre>"
      ],
      "text/plain": [
       "| Iteration | Passes   | Step size | Elapsed Time | Training Accuracy | Validation Accuracy |"
      ]
     },
     "metadata": {},
     "output_type": "display_data"
    },
    {
     "data": {
      "text/html": [
       "<pre>+-----------+----------+-----------+--------------+-------------------+---------------------+</pre>"
      ],
      "text/plain": [
       "+-----------+----------+-----------+--------------+-------------------+---------------------+"
      ]
     },
     "metadata": {},
     "output_type": "display_data"
    },
    {
     "data": {
      "text/html": [
       "<pre>| 0         | 3        | 0.500000  | 0.806774     | 0.921976          | 0.922304            |</pre>"
      ],
      "text/plain": [
       "| 0         | 3        | 0.500000  | 0.806774     | 0.921976          | 0.922304            |"
      ]
     },
     "metadata": {},
     "output_type": "display_data"
    },
    {
     "data": {
      "text/html": [
       "<pre>| 1         | 7        | 10.500000 | 1.992905     | 0.975246          | 0.975513            |</pre>"
      ],
      "text/plain": [
       "| 1         | 7        | 10.500000 | 1.992905     | 0.975246          | 0.975513            |"
      ]
     },
     "metadata": {},
     "output_type": "display_data"
    },
    {
     "data": {
      "text/html": [
       "<pre>| 2         | 9        | 8.729078  | 2.719603     | 0.097825          | 0.097447            |</pre>"
      ],
      "text/plain": [
       "| 2         | 9        | 8.729078  | 2.719603     | 0.097825          | 0.097447            |"
      ]
     },
     "metadata": {},
     "output_type": "display_data"
    },
    {
     "data": {
      "text/html": [
       "<pre>| 3         | 14       | 0.259867  | 4.210410     | 0.993399          | 0.993291            |</pre>"
      ],
      "text/plain": [
       "| 3         | 14       | 0.259867  | 4.210410     | 0.993399          | 0.993291            |"
      ]
     },
     "metadata": {},
     "output_type": "display_data"
    },
    {
     "data": {
      "text/html": [
       "<pre>| 4         | 15       | 0.324833  | 4.648111     | 0.993523          | 0.993398            |</pre>"
      ],
      "text/plain": [
       "| 4         | 15       | 0.324833  | 4.648111     | 0.993523          | 0.993398            |"
      ]
     },
     "metadata": {},
     "output_type": "display_data"
    },
    {
     "data": {
      "text/html": [
       "<pre>| 9         | 20       | 0.991313  | 6.956193     | 0.998516          | 0.998619            |</pre>"
      ],
      "text/plain": [
       "| 9         | 20       | 0.991313  | 6.956193     | 0.998516          | 0.998619            |"
      ]
     },
     "metadata": {},
     "output_type": "display_data"
    },
    {
     "data": {
      "text/html": [
       "<pre>+-----------+----------+-----------+--------------+-------------------+---------------------+</pre>"
      ],
      "text/plain": [
       "+-----------+----------+-----------+--------------+-------------------+---------------------+"
      ]
     },
     "metadata": {},
     "output_type": "display_data"
    },
    {
     "name": "stdout",
     "output_type": "stream",
     "text": [
      "PROGRESS: Model selection based on validation accuracy:\n",
      "PROGRESS: ---------------------------------------------\n",
      "PROGRESS: LogisticClassifier              : 0.9992824211111709\n",
      "PROGRESS: SVMClassifier                   : 0.998618660639004\n",
      "PROGRESS: ---------------------------------------------\n",
      "PROGRESS: Selecting LogisticClassifier based on validation set performance.\n"
     ]
    }
   ],
   "source": [
    "model=tc.classifier.create(data,target='Targets',validation_set=data_test1)"
   ]
  },
  {
   "cell_type": "code",
   "execution_count": 8,
   "id": "violent-spotlight",
   "metadata": {},
   "outputs": [
    {
     "name": "stdout",
     "output_type": "stream",
     "text": [
      "Right= 55339\n",
      "Wrong= 30\n"
     ]
    }
   ],
   "source": [
    "result=model.predict(data_validation)\n",
    "right=0\n",
    "wrong=0\n",
    "for i in range(len(result)):\n",
    "    if result[i]==data_validation['Targets'][i]:\n",
    "        right+=1\n",
    "    else:\n",
    "        wrong+=1\n",
    "print(\"Right=\",right)\n",
    "print(\"Wrong=\",wrong)"
   ]
  },
  {
   "cell_type": "code",
   "execution_count": 7,
   "id": "broke-gardening",
   "metadata": {},
   "outputs": [],
   "source": [
    "model.save(\"Model3\")"
   ]
  },
  {
   "cell_type": "code",
   "execution_count": null,
   "id": "taken-choir",
   "metadata": {},
   "outputs": [],
   "source": []
  }
 ],
 "metadata": {
  "kernelspec": {
   "display_name": "Python 3",
   "language": "python",
   "name": "python3"
  },
  "language_info": {
   "codemirror_mode": {
    "name": "ipython",
    "version": 3
   },
   "file_extension": ".py",
   "mimetype": "text/x-python",
   "name": "python",
   "nbconvert_exporter": "python",
   "pygments_lexer": "ipython3",
   "version": "3.7.8"
  }
 },
 "nbformat": 4,
 "nbformat_minor": 5
}
